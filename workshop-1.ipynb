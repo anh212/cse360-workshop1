{
 "cells": [
  {
   "cell_type": "code",
   "execution_count": 28,
   "metadata": {},
   "outputs": [
    {
     "name": "stdout",
     "output_type": "stream",
     "text": [
      "Populating the interactive namespace from numpy and matplotlib\n"
     ]
    },
    {
     "name": "stderr",
     "output_type": "stream",
     "text": [
      "/home/andrew/.local/lib/python3.6/site-packages/IPython/core/magics/pylab.py:160: UserWarning: pylab import has clobbered these variables: ['time']\n",
      "`%matplotlib` prevents importing * from pylab and numpy\n",
      "  \"\\n`%matplotlib` prevents importing * from pylab and numpy\"\n"
     ]
    }
   ],
   "source": [
    "%pylab inline"
   ]
  },
  {
   "cell_type": "markdown",
   "metadata": {},
   "source": [
    "# 1.2 Control policies and open-loop control"
   ]
  },
  {
   "cell_type": "markdown",
   "metadata": {},
   "source": [
    "## 1."
   ]
  },
  {
   "cell_type": "code",
   "execution_count": 29,
   "metadata": {},
   "outputs": [],
   "source": [
    "# Perfect sensor\n",
    "def sense(x):\n",
    "    return x"
   ]
  },
  {
   "cell_type": "markdown",
   "metadata": {},
   "source": [
    "### Euler integration"
   ]
  },
  {
   "cell_type": "code",
   "execution_count": 30,
   "metadata": {},
   "outputs": [],
   "source": [
    "def simulate(Δt, x, u):\n",
    "    x += Δt * u\n",
    "    return x"
   ]
  },
  {
   "cell_type": "markdown",
   "metadata": {},
   "source": [
    "### Control Policy for elipse"
   ]
  },
  {
   "cell_type": "code",
   "execution_count": 31,
   "metadata": {},
   "outputs": [],
   "source": [
    "def controlElipse(t, y):\n",
    "    ### WRITE YOUR CONTROL POLICY HERE:\n",
    "#     ux = 2 * sin(t)\n",
    "#     uy = 1 * cos(t)\n",
    "    \n",
    "    ux = (2 * cos(t) * cos(-30)) - (1 * sin(t) * sin(-30))\n",
    "    uy = (2 * cos(t) * sin(-30)) + (1 * sin(t) * cos(-30))\n",
    "    \n",
    "    return array([ux, uy])"
   ]
  },
  {
   "cell_type": "markdown",
   "metadata": {},
   "source": [
    "### Running the simulator"
   ]
  },
  {
   "cell_type": "code",
   "execution_count": 38,
   "metadata": {},
   "outputs": [],
   "source": [
    "tf = 10.\n",
    "Δt = 0.1    # Time step\n",
    "time = linspace(0.,tf, int(tf / Δt) + 1)  # Time interval\n",
    "\n",
    "\n",
    "# Initial conditions\n",
    "x = array([4., 2.])\n",
    "elipse_x_log = [copy(x)]\n",
    "\n",
    "for t in time:\n",
    "    y = sense(x)\n",
    "    u = controlElipse(t, y)    \n",
    "    x = simulate(Δt, x, u)\n",
    "    elipse_x_log.append(copy(x))\n",
    "    \n",
    "elipse_x_log = array(elipse_x_log)"
   ]
  },
  {
   "cell_type": "code",
   "execution_count": 39,
   "metadata": {},
   "outputs": [
    {
     "data": {
      "text/plain": [
       "[<matplotlib.lines.Line2D at 0x7f469dce5c88>]"
      ]
     },
     "execution_count": 39,
     "metadata": {},
     "output_type": "execute_result"
    },
    {
     "data": {
      "image/png": "[encoded data removed]",
      "text/plain": [
       "<Figure size 432x288 with 1 Axes>"
      ]
     },
     "metadata": {
      "needs_background": "light"
     },
     "output_type": "display_data"
    }
   ],
   "source": [
    "grid()\n",
    "plot(elipse_x_log[:,0], elipse_x_log[:,1])"
   ]
  },
  {
   "cell_type": "markdown",
   "metadata": {},
   "source": [
    "## 2."
   ]
  },
  {
   "cell_type": "markdown",
   "metadata": {},
   "source": [
    "### Control Policy for elipse figure eight"
   ]
  },
  {
   "cell_type": "code",
   "execution_count": 41,
   "metadata": {},
   "outputs": [],
   "source": [
    "def controlElipseFigureEight(t, y):\n",
    "    ### WRITE YOUR CONTROL POLICY HERE:\n",
    "    ux = 2 * sin(t)\n",
    "    uy = 2 * sin(t) * cos(t)\n",
    "\n",
    "    # From https://mathcurve.com/courbes2d.gb/gerono/gerono.shtml\n",
    "#     ux = 2 * math.sqrt(2) * sin(t) * (cos(t)**3)\n",
    "#     uy = 2 * math.sqrt(2) * (sin(t)**3) * cos(t)\n",
    "    \n",
    "    return array([ux, uy])"
   ]
  },
  {
   "cell_type": "markdown",
   "metadata": {},
   "source": [
    "### Running the simulator"
   ]
  },
  {
   "cell_type": "code",
   "execution_count": 42,
   "metadata": {},
   "outputs": [],
   "source": [
    "tf = 100.\n",
    "Δt = 0.1    # Time step\n",
    "time = linspace(0.,tf, int(tf / Δt) + 1)  # Time interval\n",
    "\n",
    "\n",
    "# Initial conditions\n",
    "x = array([1., 1.])\n",
    "figure_eight_x_log = [copy(x)]\n",
    "\n",
    "for t in time:\n",
    "    y = sense(x)\n",
    "    u = controlElipseFigureEight(t, y)    \n",
    "    x = simulate(Δt, x, u)\n",
    "    figure_eight_x_log.append(copy(x))\n",
    "    \n",
    "figure_eight_x_log = array(figure_eight_x_log)"
   ]
  },
  {
   "cell_type": "code",
   "execution_count": 43,
   "metadata": {},
   "outputs": [
    {
     "data": {
      "text/plain": [
       "[<matplotlib.lines.Line2D at 0x7f469debf748>]"
      ]
     },
     "execution_count": 43,
     "metadata": {},
     "output_type": "execute_result"
    },
    {
     "data": {
      "image/png": "[encoded data removed]",
      "text/plain": [
       "<Figure size 432x288 with 1 Axes>"
      ]
     },
     "metadata": {
      "needs_background": "light"
     },
     "output_type": "display_data"
    }
   ],
   "source": [
    "grid()\n",
    "plot(x_log[:,0], x_log[:,1])"
   ]
  },
  {
   "cell_type": "markdown",
   "metadata": {},
   "source": [
    "## 3."
   ]
  },
  {
   "cell_type": "markdown",
   "metadata": {},
   "source": [
    "3D Trajectory for 1."
   ]
  },
  {
   "cell_type": "code",
   "execution_count": 40,
   "metadata": {},
   "outputs": [
    {
     "data": {
      "text/plain": [
       "[<mpl_toolkits.mplot3d.art3d.Line3D at 0x7f469dbab8d0>]"
      ]
     },
     "execution_count": 40,
     "metadata": {},
     "output_type": "execute_result"
    },
    {
     "data": {
      "image/png": "[encoded data removed]",
      "text/plain": [
       "<Figure size 432x288 with 1 Axes>"
      ]
     },
     "metadata": {
      "needs_background": "light"
     },
     "output_type": "display_data"
    }
   ],
   "source": [
    "\n",
    "fig = plt.figure()\n",
    "ax = fig.gca(projection='3d')\n",
    "ax.plot(elipse_x_log[:,0], elipse_x_log[:,1], range(len(elipse_x_log)), label='parametric curve')\n"
   ]
  },
  {
   "cell_type": "markdown",
   "metadata": {},
   "source": [
    "# 1.3 Trajectories"
   ]
  },
  {
   "cell_type": "markdown",
   "metadata": {},
   "source": [
    "## 1. and 2."
   ]
  },
  {
   "cell_type": "code",
   "execution_count": null,
   "metadata": {},
   "outputs": [],
   "source": [
    "def point_to_point_traj(x1, x2, v1, v2, delta_t):\n",
    "  t = np.linspace(0, delta_t, 100)  \n",
    "  a0 = x1\n",
    "  a1 = v1\n",
    "  a2 = (3*x2 - 3*x1 - 2*v1*delta_t - v2 * delta_t) / (delta_t**2)\n",
    "  a3 = (2*x1 + (v1 + v2) * delta_t  - 2 * x2) / (delta_t**3)\n",
    "\n",
    "  polynomial = a0 + a1 * t + a2 * t**2 + a3 * t**3\n",
    "  derivative = a1 + 2*a2 * t + 3 * a3 * t**2\n",
    "  return polynomial, derivative\n",
    "\n",
    "\n",
    "def piecewise2D (X,Y, Vx, Vy, T):\n",
    "    theta_x, theta_y, dx, dy = [], [], [], []\n",
    "\n",
    "    for i in range(len(P)-1):          \n",
    "        theta_xi, dxi = point_to_point_traj(X[i], X[i+1], Vx[i], Vx[i+1], T[i+1] - T[i])\n",
    "        theta_yi, dyi = point_to_point_traj(Y[i], Y[i+1], Vy[i], Vy[i+1], T[i+1] - T[i])\n",
    "\n",
    "        theta_x += theta_xi.tolist()\n",
    "        theta_y += theta_yi.tolist()\n",
    "        dx += dxi.tolist()\n",
    "        dy += dyi.tolist()\n",
    "\n",
    "        plot(theta_xi, theta_yi)\n",
    "    return theta_x, theta_y, dx, dy"
   ]
  },
  {
   "cell_type": "code",
   "execution_count": null,
   "metadata": {},
   "outputs": [],
   "source": [
    "# Plotting\n",
    "def plot_points():\n",
    "    plot(X,Y, '--')\n",
    "    plot(X,Y, 'o')\n",
    "    quiver(X,Y, Vx, Vy, color='r')\n",
    "    \n",
    "# Speed\n",
    "def plot_speed():\n",
    "    speed = np.sqrt(np.array(dx)**2 + np.array(dy)**2)\n",
    "    plot(speed)"
   ]
  },
  {
   "cell_type": "code",
   "execution_count": null,
   "metadata": {
    "scrolled": false
   },
   "outputs": [],
   "source": [
    "##### Requirements for the trajectory\n",
    "\n",
    "# Waypoints\n",
    "p1 = [-5.,-7.]\n",
    "p2 = [10, -7]\n",
    "p3 = [10,-2]\n",
    "p4 = [3.5,-2]\n",
    "p5 = [3.5,10]\n",
    "p6 = [-1,10]\n",
    "p7 = [-1,-2]\n",
    "p8 = [3.5,-2]\n",
    "p9 = [3.5,10]\n",
    "p10 = [9,10]\n",
    "\n",
    "# Velocities\n",
    "v1 = [0.,0.]\n",
    "v2 = [1,0]\n",
    "v3 = [0,1]\n",
    "v4 = [-1,0]\n",
    "v5 = [-1,0]\n",
    "v6 = [0,-1]\n",
    "v7 = [1,0]\n",
    "v8 = [0.0001,0]\n",
    "v9 = [1,0]\n",
    "v10 = [0,0]\n",
    "\n",
    "\n",
    "# Time\n",
    "t1 = 0\n",
    "t2 = t1 + 3\n",
    "t3 = t2 + 5\n",
    "t4 = t3 + 5\n",
    "t5 = t4 + 3\n",
    "t6 = t5 + 5\n",
    "t7 = t6 + 5\n",
    "t8 = t7 + 2\n",
    "t9 = t8 + 2\n",
    "t10 = t9 + 2\n",
    "\n",
    "\n",
    "# Grouping\n",
    "P = np.vstack((p1, p2, p3, p4, p5, p6, p7, p8, p9, p10))\n",
    "V = np.vstack((v1, v2, v3, v4, v5, v6, v7, v8, v9, v10))\n",
    "T = [t1, t2, t3, t4, t5, t6, t7, t8, t9, t10]\n",
    "\n",
    "X, Y = P[:,0], P[:,1]\n",
    "Vx, Vy = V[:,0], V[:,1]\n",
    "\n",
    "# Plotting\n",
    "plot_points()\n",
    "show()\n",
    "\n",
    "# Piecewise function\n",
    "theta_x, theta_y, dx, dy = piecewise2D(X,Y, Vx, Vy, T)\n",
    "\n",
    "# Plotting\n",
    "quiver(X,Y, Vx, Vy, color='r')  #\n",
    "\n",
    "show()"
   ]
  }
 ],
 "metadata": {
  "kernelspec": {
   "display_name": "Python 3",
   "language": "python",
   "name": "python3"
  },
  "language_info": {
   "codemirror_mode": {
    "name": "ipython",
    "version": 3
   },
   "file_extension": ".py",
   "mimetype": "text/x-python",
   "name": "python",
   "nbconvert_exporter": "python",
   "pygments_lexer": "ipython3",
   "version": "3.6.9"
  }
 },
 "nbformat": 4,
 "nbformat_minor": 4
}
